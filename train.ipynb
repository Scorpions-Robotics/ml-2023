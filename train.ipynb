{
 "cells": [
  {
   "attachments": {},
   "cell_type": "markdown",
   "metadata": {},
   "source": [
    "# Training"
   ]
  },
  {
   "attachments": {},
   "cell_type": "markdown",
   "metadata": {},
   "source": [
    "## Variables"
   ]
  },
  {
   "cell_type": "code",
   "execution_count": null,
   "metadata": {},
   "outputs": [],
   "source": [
    "ROBOFLOW_API_KEY = \"YOUR_API_KEY\"\n",
    "ROBOFLOW_WORKSPACE = \"scorpionsvision\"\n",
    "ROBOFLOW_PROJECT = \"conev3\"\n",
    "ROBOFLOW_PROJECT_VERSION = 1\n",
    "BATCH_SIZE = -1  # -1 for autobatch\n",
    "IMAGE_SIZE = 640\n",
    "EPOCHS = 20\n",
    "DETECTION_THRESHOLD = 0.01"
   ]
  },
  {
   "attachments": {},
   "cell_type": "markdown",
   "metadata": {},
   "source": [
    "## Torch Installation"
   ]
  },
  {
   "cell_type": "code",
   "execution_count": null,
   "metadata": {},
   "outputs": [],
   "source": [
    "!pip3 install torch==1.10.1+cu113 torchvision==0.11.2+cu113 torchaudio==0.10.1+cu113 -f https://download.pytorch.org/whl/cu113/torch_stable.html # newer versions of pytorch are not compatible\n",
    "!nvidia-smi\n",
    "!nvcc --version\n",
    "!python -c \"import torch; print(torch.version.cuda)\""
   ]
  },
  {
   "attachments": {},
   "cell_type": "markdown",
   "metadata": {},
   "source": [
    "## Yolov5-OBB Installation"
   ]
  },
  {
   "cell_type": "code",
   "execution_count": null,
   "metadata": {},
   "outputs": [],
   "source": [
    "!git clone https://github.com/hukaixuan19970627/yolov5_obb.git"
   ]
  },
  {
   "cell_type": "code",
   "execution_count": null,
   "metadata": {},
   "outputs": [],
   "source": [
    "%cd /content/yolov5_obb/\n",
    "!pip install -r requirements.txt"
   ]
  },
  {
   "cell_type": "code",
   "execution_count": null,
   "metadata": {},
   "outputs": [],
   "source": [
    "%cd /content/yolov5_obb/utils/nms_rotated\n",
    "!python setup.py develop"
   ]
  },
  {
   "attachments": {},
   "cell_type": "markdown",
   "metadata": {},
   "source": [
    "## Data Preparation"
   ]
  },
  {
   "cell_type": "code",
   "execution_count": null,
   "metadata": {},
   "outputs": [],
   "source": [
    "!mkdir /content/datasets/\n",
    "%cd /content/datasets/\n",
    "\n",
    "!pip install roboflow\n",
    "\n",
    "from roboflow import Roboflow\n",
    "rf = Roboflow(api_key=ROBOFLOW_API_KEY)\n",
    "project = rf.workspace(ROBOFLOW_WORKSPACE).project(ROBOFLOW_PROJECT)\n",
    "dataset = project.version(ROBOFLOW_PROJECT_VERSION).download(\"yolov5-obb\")"
   ]
  },
  {
   "cell_type": "code",
   "execution_count": null,
   "metadata": {},
   "outputs": [],
   "source": [
    "!mv /content/datasets/{ROBOFLOW_PROJECT}-{ROBOFLOW_PROJECT_VERSION}/ /content/datasets/roboflow/"
   ]
  },
  {
   "attachments": {},
   "cell_type": "markdown",
   "metadata": {},
   "source": [
    "## Train"
   ]
  },
  {
   "cell_type": "code",
   "execution_count": null,
   "metadata": {},
   "outputs": [],
   "source": [
    "%cd /content/yolov5_obb/\n",
    "!python train.py --weights weights/yolov5s --data /content/datasets/roboflow/data.yaml --epochs {EPOCHS} --batch-size {BATCH_SIZE} --img {IMAGE_SIZE} --device 0 --exist-ok"
   ]
  },
  {
   "attachments": {},
   "cell_type": "markdown",
   "metadata": {},
   "source": [
    "# Detection/Inference"
   ]
  },
  {
   "attachments": {},
   "cell_type": "markdown",
   "metadata": {},
   "source": [
    "## Detect"
   ]
  },
  {
   "cell_type": "code",
   "execution_count": null,
   "metadata": {},
   "outputs": [],
   "source": [
    "%cd /content/yolov5_obb/\n",
    "!python detect.py --weights 'runs/train/exp/weights/best.pt' --source '../datasets/roboflow/valid/images' --conf-thres {DETECTION_THRESHOLD} --img {IMAGE_SIZE} --device 0 --agnostic-nms"
   ]
  },
  {
   "attachments": {},
   "cell_type": "markdown",
   "metadata": {},
   "source": [
    "## Show a random result"
   ]
  },
  {
   "cell_type": "code",
   "execution_count": null,
   "metadata": {},
   "outputs": [],
   "source": [
    "import os, random\n",
    "random_file = random.choice(os.listdir(\"/content/yolov5_obb/runs/detect/exp\"))\n",
    "\n",
    "from IPython.display import Image\n",
    "Image(random_file)"
   ]
  },
  {
   "attachments": {},
   "cell_type": "markdown",
   "metadata": {},
   "source": [
    "# Utils"
   ]
  },
  {
   "cell_type": "code",
   "execution_count": null,
   "metadata": {},
   "outputs": [],
   "source": [
    "# Remove detect folder\n",
    "!rm -rf /content/yolov5_obb/runs/detect/"
   ]
  },
  {
   "cell_type": "code",
   "execution_count": null,
   "metadata": {},
   "outputs": [],
   "source": [
    "# Remove train folder\n",
    "!rm -rf /content/yolov5_obb/runs/train/"
   ]
  }
 ],
 "metadata": {
  "kernelspec": {
   "display_name": "base",
   "language": "python",
   "name": "python3"
  },
  "language_info": {
   "name": "python",
   "version": "3.10.9"
  },
  "orig_nbformat": 4,
  "vscode": {
   "interpreter": {
    "hash": "6e7050dd1756071a800076127fc4a814278e292e1bdcd7f0eea1cdcb7332bee3"
   }
  }
 },
 "nbformat": 4,
 "nbformat_minor": 2
}
